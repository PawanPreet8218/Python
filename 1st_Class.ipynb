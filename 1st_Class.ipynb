{
 "cells": [
  {
   "cell_type": "markdown",
   "id": "4fc82bd0-6949-4cab-ae5f-bac946936703",
   "metadata": {},
   "source": []
  },
  {
   "cell_type": "markdown",
   "id": "1af71b89-ac7b-4a3a-abda-05887b529ec2",
   "metadata": {},
   "source": []
  },
  {
   "cell_type": "code",
   "execution_count": null,
   "id": "87b9cd26-df2f-42bd-b683-5a4acd45ef54",
   "metadata": {},
   "outputs": [],
   "source": []
  },
  {
   "cell_type": "markdown",
   "id": "11bea70a-a95c-43cb-8d85-900acbc09c0e",
   "metadata": {},
   "source": [
    "# h1\n",
    "## h2\n",
    "### h3\n",
    "###### h6"
   ]
  },
  {
   "cell_type": "markdown",
   "id": "1c9d1721-56f1-47fc-bd19-855e60b8e978",
   "metadata": {},
   "source": [
    "### Print ................"
   ]
  },
  {
   "cell_type": "code",
   "execution_count": 1,
   "id": "a51ca6a9-bec7-4881-9545-73f37672f296",
   "metadata": {},
   "outputs": [
    {
     "name": "stdout",
     "output_type": "stream",
     "text": [
      "10\n"
     ]
    }
   ],
   "source": [
    "print(10)"
   ]
  },
  {
   "cell_type": "code",
   "execution_count": 2,
   "id": "7c943cf3-6714-4b65-b794-ae1c7df30a8b",
   "metadata": {},
   "outputs": [
    {
     "name": "stdout",
     "output_type": "stream",
     "text": [
      "Hello\n"
     ]
    }
   ],
   "source": [
    "print(\"Hello\")"
   ]
  },
  {
   "cell_type": "code",
   "execution_count": 3,
   "id": "bb308e3a-3fa9-4124-b267-baae0137a4cb",
   "metadata": {},
   "outputs": [
    {
     "name": "stdout",
     "output_type": "stream",
     "text": [
      "Hello-------World\n"
     ]
    }
   ],
   "source": [
    "print(\"Hello\",\"World\" ,sep = '-------')"
   ]
  },
  {
   "cell_type": "markdown",
   "id": "40ee8079-c38e-4830-b9e8-67f538ed0a8a",
   "metadata": {},
   "source": [
    "# h1 Deep learning"
   ]
  },
  {
   "cell_type": "markdown",
   "id": "91a3bba0-4734-4e93-a578-73ccd4fa3ef4",
   "metadata": {},
   "source": [
    "# h2 10 Topics"
   ]
  },
  {
   "cell_type": "code",
   "execution_count": 4,
   "id": "2fea7608-3d93-4854-a479-482750f86111",
   "metadata": {},
   "outputs": [
    {
     "name": "stdout",
     "output_type": "stream",
     "text": [
      "How are you\n"
     ]
    }
   ],
   "source": [
    "print(\"How are you\")"
   ]
  },
  {
   "cell_type": "code",
   "execution_count": 6,
   "id": "938b7e37-735e-439d-8313-c53d9a2433d3",
   "metadata": {},
   "outputs": [
    {
     "name": "stdout",
     "output_type": "stream",
     "text": [
      "10g56789learn\n"
     ]
    }
   ],
   "source": [
    "print(\"10\",\"learn\",sep='g56789')"
   ]
  },
  {
   "cell_type": "code",
   "execution_count": 7,
   "id": "48a2aa59-97a2-40bf-bfab-0a38811bad9e",
   "metadata": {},
   "outputs": [
    {
     "name": "stdout",
     "output_type": "stream",
     "text": [
      "hello\n",
      "world\n"
     ]
    }
   ],
   "source": [
    "print(\"hello\")\n",
    "print(\"world\")"
   ]
  },
  {
   "cell_type": "code",
   "execution_count": 8,
   "id": "260d7ff9-d2a9-46c6-8cb0-3176190d555d",
   "metadata": {},
   "outputs": [
    {
     "name": "stdout",
     "output_type": "stream",
     "text": [
      "hellogoodworld\n"
     ]
    }
   ],
   "source": [
    "print(\"hello\",end='good',)\n",
    "print(\"world\")"
   ]
  },
  {
   "cell_type": "markdown",
   "id": "0b01689d-9e63-4ddc-b264-3bb0d2f920c0",
   "metadata": {},
   "source": [
    "# Data Types"
   ]
  },
  {
   "cell_type": "code",
   "execution_count": 15,
   "id": "eb1605f0-951a-4e36-8348-06652b6589ca",
   "metadata": {},
   "outputs": [
    {
     "name": "stdout",
     "output_type": "stream",
     "text": [
      "10\n"
     ]
    }
   ],
   "source": [
    "# integer\n",
    "a=10\n",
    "print(a)"
   ]
  },
  {
   "cell_type": "code",
   "execution_count": 16,
   "id": "8dddba02-d499-452b-bab0-d013eeed47ca",
   "metadata": {},
   "outputs": [
    {
     "name": "stdout",
     "output_type": "stream",
     "text": [
      "5.6\n"
     ]
    }
   ],
   "source": [
    "# float\n",
    "a=5.6\n",
    "print(a)"
   ]
  },
  {
   "cell_type": "code",
   "execution_count": 17,
   "id": "be7a5919-43c3-40c8-8955-c919369943f4",
   "metadata": {},
   "outputs": [
    {
     "name": "stdout",
     "output_type": "stream",
     "text": [
      "True\n"
     ]
    }
   ],
   "source": [
    "#boolean\n",
    "print(True)"
   ]
  },
  {
   "cell_type": "code",
   "execution_count": 19,
   "id": "fadd49c0-2186-4b06-b496-ca09cbd2c987",
   "metadata": {},
   "outputs": [
    {
     "name": "stdout",
     "output_type": "stream",
     "text": [
      "The complex number is  (3+5j)\n"
     ]
    }
   ],
   "source": [
    "real = 3\n",
    "imaginary = 5\n",
    "\n",
    "\n",
    "z = complex(real, imaginary)\n",
    "print(\"The complex number is \", z)"
   ]
  },
  {
   "cell_type": "code",
   "execution_count": 21,
   "id": "3880fc2a-13c9-4d46-9d91-c883ebdf4b14",
   "metadata": {},
   "outputs": [
    {
     "name": "stdout",
     "output_type": "stream",
     "text": [
      "The complex number is  (4+7j)\n"
     ]
    }
   ],
   "source": [
    "real=4\n",
    "imaginary=7\n",
    "\n",
    "z = complex(real, imaginary)\n",
    "print(\"The complex number is \", z)\n"
   ]
  },
  {
   "cell_type": "code",
   "execution_count": 23,
   "id": "832e8a34-2896-4eb2-90cb-40d50e6363cf",
   "metadata": {},
   "outputs": [
    {
     "name": "stdout",
     "output_type": "stream",
     "text": [
      "hello\n"
     ]
    }
   ],
   "source": [
    "# String\n",
    "a='hello'\n",
    "print(a)"
   ]
  },
  {
   "cell_type": "code",
   "execution_count": 24,
   "id": "d237868b-15d8-4092-b398-7e5f59a80cdf",
   "metadata": {},
   "outputs": [
    {
     "name": "stdout",
     "output_type": "stream",
     "text": [
      "hello\n"
     ]
    }
   ],
   "source": [
    "# string\n",
    "a=\"hello\"\n",
    "print(a)"
   ]
  },
  {
   "cell_type": "code",
   "execution_count": 25,
   "id": "150ae40b-c84d-4474-97df-e5d25ac5a5cd",
   "metadata": {},
   "outputs": [
    {
     "name": "stdout",
     "output_type": "stream",
     "text": [
      "[10, 2.5, 'hello', True]\n"
     ]
    }
   ],
   "source": [
    "# list\n",
    "a=[10,2.5,\"hello\",True]\n",
    "print(a)"
   ]
  },
  {
   "cell_type": "code",
   "execution_count": 26,
   "id": "9cab969f-af13-454f-a796-251902007468",
   "metadata": {},
   "outputs": [
    {
     "name": "stdout",
     "output_type": "stream",
     "text": [
      "(1, 1.3, 'hello')\n"
     ]
    }
   ],
   "source": [
    "# Tuple\n",
    "a=(1,1.3,\"hello\")\n",
    "print(a)"
   ]
  },
  {
   "cell_type": "code",
   "execution_count": 29,
   "id": "c4363058-6a2f-4916-bcb1-c625e392f1d5",
   "metadata": {},
   "outputs": [
    {
     "name": "stdout",
     "output_type": "stream",
     "text": [
      "{11, 99, 23, 87}\n"
     ]
    }
   ],
   "source": [
    "# Set\n",
    "a={11,23,87,99,23}\n",
    "print(a)"
   ]
  },
  {
   "cell_type": "code",
   "execution_count": 30,
   "id": "3004b80e-7c3d-4bc2-83af-eb75a22cbd4f",
   "metadata": {},
   "outputs": [
    {
     "name": "stdout",
     "output_type": "stream",
     "text": [
      "{10: 'ten', 'hello': 'world'}\n"
     ]
    }
   ],
   "source": [
    "#Dictionary\n",
    "a={10:'ten',\"hello\":\"world\"}\n",
    "print(a)"
   ]
  },
  {
   "cell_type": "code",
   "execution_count": null,
   "id": "bbb16a3c-4308-44b7-8f7b-958e8d82ccdf",
   "metadata": {},
   "outputs": [],
   "source": []
  }
 ],
 "metadata": {
  "kernelspec": {
   "display_name": "Python 3 (ipykernel)",
   "language": "python",
   "name": "python3"
  },
  "language_info": {
   "codemirror_mode": {
    "name": "ipython",
    "version": 3
   },
   "file_extension": ".py",
   "mimetype": "text/x-python",
   "name": "python",
   "nbconvert_exporter": "python",
   "pygments_lexer": "ipython3",
   "version": "3.11.7"
  }
 },
 "nbformat": 4,
 "nbformat_minor": 5
}
